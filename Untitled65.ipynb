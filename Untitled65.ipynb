{
 "cells": [
  {
   "cell_type": "code",
   "execution_count": 19,
   "metadata": {},
   "outputs": [
    {
     "name": "stderr",
     "output_type": "stream",
     "text": [
      "[WDM] - Cache is valid for [31/05/2020]\n",
      "[WDM] - Looking for [chromedriver 83.0.4103.39 win32] driver in cache \n",
      "[WDM] - Driver found in cache [C:\\Users\\KIIT\\.wdm\\drivers\\chromedriver\\83.0.4103.39\\win32\\chromedriver.exe]\n"
     ]
    },
    {
     "name": "stdout",
     "output_type": "stream",
     "text": [
      " \n",
      "vngtc\n"
     ]
    }
   ],
   "source": [
    "from selenium import webdriver\n",
    "\n",
    "from pytesseract import image_to_string \n",
    "from PIL import Image \n",
    "from selenium import webdriver\n",
    "from time import sleep\n",
    "\n",
    "from selenium import webdriver\n",
    "from webdriver_manager.chrome import ChromeDriverManager\n",
    "\n",
    "driver = webdriver.Chrome(ChromeDriverManager().install())\n",
    "\n",
    "driver.maximize_window()\n",
    "driver.get('https://resident.uidai.gov.in/verify')\n",
    "\n",
    "with open('ef.png', 'wb') as file:\n",
    "    file.write(driver.find_element_by_xpath('/html/body/div[2]/div[2]/div[2]/div[1]/div/div[4]/div/div/div[2]/div/div/form/div[2]/div/div/div/div[2]/img').screenshot_as_png)\n",
    "\n",
    "\n",
    "try:\n",
    "    from PIL import Image\n",
    "except ImportError:\n",
    "    import Image\n",
    "import pytesseract\n",
    "import cv2\n",
    "import os\n",
    "import sys\n",
    "pytesseract.pytesseract.tesseract_cmd = 'C:/Program Files (x86)/Tesseract-OCR/tesseract' \n",
    "\n",
    "def ocr_core(filename):\n",
    "    \"\"\"\n",
    "    This function will handle the core OCR processing of images.\n",
    "    \"\"\"\n",
    "    text = pytesseract.image_to_string(Image.open(filename))  # We'll use Pillow's Image class to open the image and pytesseract to detect the string in the image\n",
    "    return text\n",
    "\n",
    "img = cv2.imread('ef.png')\n",
    "gray = cv2.cvtColor(img, cv2.COLOR_BGR2GRAY)\n",
    "ret, thresh = cv2.threshold(gray, 90, 255, cv2.THRESH_BINARY)\n",
    "\n",
    "cv2.imwrite('tempimg.png', thresh)\n",
    "\n",
    "ocrtext=(ocr_core('tempimg.png'))\n",
    "\n",
    "try: \n",
    "    os.remove('tempimg.png')\n",
    "except:\n",
    "    pass\n",
    "print(ocrtext)\n",
    "sleep(2)\n",
    "\n",
    "adhar_number='268739341354'\n",
    "driver.find_element_by_xpath('/html/body/div[2]/div[2]/div[2]/div[1]/div/div[4]/div/div/div[2]/div/div/form/div[1]/div/div[1]/input').send_keys(adhar_number)\n",
    "driver.find_element_by_xpath('/html/body/div[2]/div[2]/div[2]/div[1]/div/div[4]/div/div/div[2]/div/div/form/div[2]/div/div/div/div[1]/input').send_keys(ocrtext)\n",
    "\n",
    "sleep(2)\n",
    "driver.find_element_by_xpath('/html/body/div[2]/div[2]/div[2]/div[1]/div/div[4]/div/div/div[2]/div/div/form/div[3]/div/input').click()"
   ]
  },
  {
   "cell_type": "code",
   "execution_count": null,
   "metadata": {},
   "outputs": [],
   "source": []
  }
 ],
 "metadata": {
  "kernelspec": {
   "display_name": "Python 3",
   "language": "python",
   "name": "python3"
  },
  "language_info": {
   "codemirror_mode": {
    "name": "ipython",
    "version": 3
   },
   "file_extension": ".py",
   "mimetype": "text/x-python",
   "name": "python",
   "nbconvert_exporter": "python",
   "pygments_lexer": "ipython3",
   "version": "3.7.4"
  }
 },
 "nbformat": 4,
 "nbformat_minor": 2
}
